{
 "cells": [
  {
   "cell_type": "markdown",
   "metadata": {},
   "source": [
    "# 2. Merging Tables with Different Join Types"
   ]
  },
  {
   "cell_type": "markdown",
   "metadata": {},
   "source": [
    "## Left Join"
   ]
  },
  {
   "cell_type": "markdown",
   "metadata": {},
   "source": [
    "### Counting missing rows with left join\n",
    "The Movie Database is supported by volunteers going out into the world, collecting data, and entering it into the database. This includes financial data, such as movie budget and revenue. If you wanted to know which movies are still missing data, you could use a left join to identify them. Practice using a left join by merging the ```movies``` table and the ```financials``` table."
   ]
  },
  {
   "cell_type": "code",
   "execution_count": 1,
   "metadata": {},
   "outputs": [
    {
     "name": "stdout",
     "output_type": "stream",
     "text": [
      "<class 'pandas.core.frame.DataFrame'>\n",
      "RangeIndex: 4803 entries, 0 to 4802\n",
      "Data columns (total 4 columns):\n",
      " #   Column        Non-Null Count  Dtype  \n",
      "---  ------        --------------  -----  \n",
      " 0   id            4803 non-null   int64  \n",
      " 1   title         4803 non-null   object \n",
      " 2   popularity    4803 non-null   float64\n",
      " 3   release_date  4802 non-null   object \n",
      "dtypes: float64(1), int64(1), object(2)\n",
      "memory usage: 150.2+ KB\n",
      "None\n",
      "<class 'pandas.core.frame.DataFrame'>\n",
      "RangeIndex: 3229 entries, 0 to 3228\n",
      "Data columns (total 3 columns):\n",
      " #   Column   Non-Null Count  Dtype  \n",
      "---  ------   --------------  -----  \n",
      " 0   id       3229 non-null   int64  \n",
      " 1   budget   3229 non-null   int64  \n",
      " 2   revenue  3229 non-null   float64\n",
      "dtypes: float64(1), int64(2)\n",
      "memory usage: 75.8 KB\n",
      "None\n"
     ]
    }
   ],
   "source": [
    "import pandas as pd\n",
    "\n",
    "movies = pd.read_pickle(\"movies.p\")\n",
    "financials = pd.read_pickle(\"financials.p\")\n",
    "\n",
    "print(movies.info())\n",
    "print(financials.info())"
   ]
  },
  {
   "cell_type": "code",
   "execution_count": 2,
   "metadata": {},
   "outputs": [],
   "source": [
    "# Merge movies and financials with a left join\n",
    "movies_financials = movies.merge(financials, on=(\"id\"), how=\"left\")"
   ]
  },
  {
   "cell_type": "code",
   "execution_count": 3,
   "metadata": {},
   "outputs": [
    {
     "name": "stdout",
     "output_type": "stream",
     "text": [
      "1574\n"
     ]
    }
   ],
   "source": [
    "# Merge the movies table with the financials table with a left join\n",
    "movies_financials = movies.merge(financials, on='id', how='left')\n",
    "\n",
    "# Count the number of rows in the budget column that are missing\n",
    "number_of_missing_fin = movies_financials['budget'].isnull().sum()\n",
    "\n",
    "# Print the number of movies missing financials\n",
    "print(number_of_missing_fin)"
   ]
  },
  {
   "cell_type": "markdown",
   "metadata": {},
   "source": [
    "### Enriching a dataset\n",
    "\n",
    "Setting ```how='left'``` with the ```.merge()```method is a useful technique for enriching or enhancing a dataset with additional information from a different table. In this exercise, you will start off with a sample of movie data from the movie series Toy Story. Your goal is to enrich this data by adding the marketing tag line for each movie. You will compare the results of a left join versus an inner join."
   ]
  },
  {
   "cell_type": "code",
   "execution_count": 5,
   "metadata": {},
   "outputs": [
    {
     "name": "stdout",
     "output_type": "stream",
     "text": [
      "      id        title  popularity release_date\n",
      "0  10193  Toy Story 3       59995   2010-06-16\n",
      "1    863  Toy Story 2       73575   1999-10-30\n",
      "2    862    Toy Story       73640   1995-10-30\n"
     ]
    }
   ],
   "source": [
    "dict_toystory = {\n",
    "    \"id\": [10193, 863, 862],\n",
    "    \"title\": [\"Toy Story 3\", \"Toy Story 2\", \"Toy Story\"],\n",
    "    \"popularity\": [59995, 73575, 73640],\n",
    "    \"release_date\": [\"2010-06-16\", \"1999-10-30\", \"1995-10-30\"]\n",
    "}\n",
    "\n",
    "toy_story = pd.DataFrame(dict_toystory)\n",
    "print(toy_story)"
   ]
  },
  {
   "cell_type": "code",
   "execution_count": 6,
   "metadata": {},
   "outputs": [
    {
     "name": "stdout",
     "output_type": "stream",
     "text": [
      "<class 'pandas.core.frame.DataFrame'>\n",
      "Index: 3955 entries, 0 to 4801\n",
      "Data columns (total 2 columns):\n",
      " #   Column   Non-Null Count  Dtype \n",
      "---  ------   --------------  ----- \n",
      " 0   id       3955 non-null   int64 \n",
      " 1   tagline  3955 non-null   object\n",
      "dtypes: int64(1), object(1)\n",
      "memory usage: 92.7+ KB\n",
      "None\n"
     ]
    }
   ],
   "source": [
    "taglines = pd.read_pickle(\"taglines.p\")\n",
    "print(taglines.info())"
   ]
  },
  {
   "cell_type": "code",
   "execution_count": null,
   "metadata": {},
   "outputs": [],
   "source": []
  },
  {
   "cell_type": "markdown",
   "metadata": {},
   "source": []
  }
 ],
 "metadata": {
  "kernelspec": {
   "display_name": "base",
   "language": "python",
   "name": "python3"
  },
  "language_info": {
   "codemirror_mode": {
    "name": "ipython",
    "version": 3
   },
   "file_extension": ".py",
   "mimetype": "text/x-python",
   "name": "python",
   "nbconvert_exporter": "python",
   "pygments_lexer": "ipython3",
   "version": "3.11.8"
  }
 },
 "nbformat": 4,
 "nbformat_minor": 2
}
