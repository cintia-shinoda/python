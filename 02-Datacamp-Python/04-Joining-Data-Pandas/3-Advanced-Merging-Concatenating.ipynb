{
 "cells": [
  {
   "cell_type": "markdown",
   "metadata": {},
   "source": [
    "# 3. Advanced Merging and Concatenating"
   ]
  },
  {
   "cell_type": "markdown",
   "metadata": {},
   "source": [
    "## Filtering joins"
   ]
  },
  {
   "cell_type": "markdown",
   "metadata": {},
   "source": [
    "- filter observations from table based on whether or not they match an observation in another table"
   ]
  },
  {
   "cell_type": "markdown",
   "metadata": {},
   "source": [
    "### Semi joins"
   ]
  },
  {
   "cell_type": "markdown",
   "metadata": {},
   "source": [
    "- returns the intersection, similar to an inner join\n",
    "- returns only columns from the left table and **not** the right\n",
    "- no duplicates\n",
    "<br><br>\n",
    "\n",
    "Steps:\n",
    "- merges the left and right tables on key column using an inner join;\n",
    "- search if the key column in the left table is in the merged tables using the ```.isin()``` method creating a Boolean Series\n",
    "- subset the rows of the left table"
   ]
  },
  {
   "cell_type": "markdown",
   "metadata": {},
   "source": [
    "### Anti join"
   ]
  },
  {
   "cell_type": "markdown",
   "metadata": {},
   "source": [
    "- returns the left table, excluding the intersection\n",
    "- returns only columns from the left table and **not** the right"
   ]
  },
  {
   "cell_type": "code",
   "execution_count": null,
   "metadata": {},
   "outputs": [],
   "source": [
    "# In our music streaming company dataset, each customer is assigned an employee representative to assist them. \n",
    "\n",
    "# In this exercise, filter the employee table by a table of top customers, returning only those employees who are not assigned to a customer. \n",
    "\n",
    "# The results should resemble the results of an anti join. The company's leadership will assign these employees additional training so that they can work with high valued customers.\n",
    "\n",
    "# Merge employees and top_cust\n",
    "empl_cust = employees.merge(top_cust, on='srid', \n",
    "                                 how='left', indicator=True)\n",
    "\n",
    "# Select the srid column where _merge is left_only\n",
    "srid_list = empl_cust.loc[empl_cust['_merge'] == 'left_only', 'srid']\n",
    "\n",
    "# Get employees not working with top customers\n",
    "print(employees[employees['srid'].isin(srid_list)])"
   ]
  }
 ],
 "metadata": {
  "kernelspec": {
   "display_name": "base",
   "language": "python",
   "name": "python3"
  },
  "language_info": {
   "name": "python",
   "version": "3.11.8"
  }
 },
 "nbformat": 4,
 "nbformat_minor": 2
}
