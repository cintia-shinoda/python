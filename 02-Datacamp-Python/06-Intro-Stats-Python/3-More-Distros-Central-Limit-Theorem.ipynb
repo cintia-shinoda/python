{
 "cells": [
  {
   "cell_type": "markdown",
   "id": "fe6026e6",
   "metadata": {},
   "source": [
    "# 3. More Distributions and the Central Limit Theorem"
   ]
  },
  {
   "cell_type": "markdown",
   "id": "08cc8991",
   "metadata": {},
   "source": [
    "## The Normal Distribution"
   ]
  },
  {
   "cell_type": "markdown",
   "id": "3b08190c",
   "metadata": {},
   "source": [
    "- symmetrical\n",
    "- area under the curve = 1\n",
    "- curve never hits 0\n",
    "- 68% of the area under the normal distribution, is within 1 standard deviation of the mean\n",
    "- 95% falls within 2 standard deviations\n",
    "- 99.7% falls within 3 standard deviations\n",
    "- "
   ]
  },
  {
   "cell_type": "code",
   "execution_count": 1,
   "id": "b60876c9",
   "metadata": {},
   "outputs": [
    {
     "data": {
      "text/plain": [
       "0.15865525393145707"
      ]
     },
     "execution_count": 1,
     "metadata": {},
     "output_type": "execute_result"
    }
   ],
   "source": [
    "# what percent of women are shorter than 154 cm?\n",
    "\n",
    "from scipy.stats import norm\n",
    "norm.cdf(154, 161, 7)\n",
    "# 161 = mean\n",
    "# 7 = std deviation"
   ]
  },
  {
   "cell_type": "code",
   "execution_count": 2,
   "id": "eef77fcb",
   "metadata": {},
   "outputs": [
    {
     "data": {
      "text/plain": [
       "0.8413447460685429"
      ]
     },
     "execution_count": 2,
     "metadata": {},
     "output_type": "execute_result"
    }
   ],
   "source": [
    "# what percent of women are taller than 154?\n",
    "\n",
    "1 - norm.cdf(154, 161, 7)"
   ]
  },
  {
   "cell_type": "code",
   "execution_count": 3,
   "id": "4d2aa67b",
   "metadata": {},
   "outputs": [
    {
     "data": {
      "text/plain": [
       "0.1251993291672192"
      ]
     },
     "execution_count": 3,
     "metadata": {},
     "output_type": "execute_result"
    }
   ],
   "source": [
    "# what percent of women are 154-157 cm?\n",
    "\n",
    "norm.cdf(157, 161, 7) - norm.cdf(154, 161, 7)"
   ]
  },
  {
   "cell_type": "code",
   "execution_count": 4,
   "id": "bb505900",
   "metadata": {},
   "outputs": [
    {
     "data": {
      "text/plain": [
       "169.9708609588122"
      ]
     },
     "execution_count": 4,
     "metadata": {},
     "output_type": "execute_result"
    }
   ],
   "source": [
    "# what height are 90% of women shorter than?\n",
    "\n",
    "norm.ppf(0.9, 161, 7)"
   ]
  },
  {
   "cell_type": "code",
   "execution_count": 5,
   "id": "73682f67",
   "metadata": {},
   "outputs": [
    {
     "data": {
      "text/plain": [
       "152.0291390411878"
      ]
     },
     "execution_count": 5,
     "metadata": {},
     "output_type": "execute_result"
    }
   ],
   "source": [
    "# what height are 90% of women taller than?\n",
    "\n",
    "norm.ppf((1 - 0.9), 161, 7)"
   ]
  },
  {
   "cell_type": "code",
   "execution_count": 6,
   "id": "1266f696",
   "metadata": {},
   "outputs": [
    {
     "data": {
      "text/plain": [
       "array([162.42130518, 171.32079678, 147.97486336, 161.46153141,\n",
       "       155.98687489, 165.13446085, 159.57099371, 162.85275509,\n",
       "       152.13346759, 161.76122416])"
      ]
     },
     "execution_count": 6,
     "metadata": {},
     "output_type": "execute_result"
    }
   ],
   "source": [
    "# Generating Random Numbers\n",
    "\n",
    "# generate 10 random heights\n",
    "norm.rvs(161, 7, size=10)"
   ]
  },
  {
   "cell_type": "markdown",
   "id": "e2a50a49",
   "metadata": {},
   "source": [
    "#### Distribution of Amir's sales\n",
    "\n",
    "Since each deal Amir worked on (both won and lost) was different, each was worth a different amount of money. These values are stored in the amount column of amir_deals As part of Amir's performance review, you want to be able to estimate the probability of him selling different amounts, but before you can do this, you'll need to determine what kind of distribution the amount variable follows."
   ]
  },
  {
   "cell_type": "code",
   "execution_count": 7,
   "id": "6533799c",
   "metadata": {},
   "outputs": [],
   "source": [
    "import pandas as pd\n",
    "import matplotlib.pyplot as plt\n",
    "amir_deals = pd.read_csv('amir_deals.csv')"
   ]
  },
  {
   "cell_type": "code",
   "execution_count": 9,
   "id": "4e433eeb",
   "metadata": {},
   "outputs": [
    {
     "data": {
      "image/png": "[encoded data removed]",
      "text/plain": [
       "<Figure size 640x480 with 1 Axes>"
      ]
     },
     "metadata": {},
     "output_type": "display_data"
    }
   ],
   "source": [
    "# Create a histogram with 10 bins to visualize the distribution of the amount. Show the plot.\n",
    "\n",
    "# Histogram of amount with 10 bins and show plot\n",
    "amir_deals['amount'].hist(bins=10)\n",
    "plt.show()"
   ]
  },
  {
   "cell_type": "markdown",
   "id": "ff7b8111",
   "metadata": {},
   "source": [
    "#### Probabilities from the normal distribution\n",
    "\n",
    "Since each deal Amir worked on (both won and lost) was different, each was worth a different amount of money. These values are stored in the amount column of amir_deals and follow a normal distribution with a mean of 5000 dollars and a standard deviation of 2000 dollars. As part of his performance metrics, you want to calculate the probability of Amir closing a deal worth various amounts."
   ]
  },
  {
   "cell_type": "code",
   "execution_count": null,
   "id": "4cc32d7d",
   "metadata": {},
   "outputs": [
    {
     "name": "stdout",
     "output_type": "stream",
     "text": [
      "0.8943502263331446\n"
     ]
    }
   ],
   "source": [
    "from scipy.stats import norm\n",
    "\n",
    "# What's the probability of Amir closing a deal worth less than $7500?\n",
    "\n",
    "# Probability of deal < 7500\n",
    "prob_less_7500 = norm.cdf(7500, 5000, 2000)\n",
    "\n",
    "print(prob_less_7500)"
   ]
  },
  {
   "cell_type": "code",
   "execution_count": 11,
   "id": "044a5e56",
   "metadata": {},
   "outputs": [
    {
     "name": "stdout",
     "output_type": "stream",
     "text": [
      "0.9772498680518208\n"
     ]
    }
   ],
   "source": [
    "# What's the probability of Amir closing a deal worth more than $1000?\n",
    "\n",
    "# Probability of deal > 1000\n",
    "prob_over_1000 = 1 - norm.cdf(1000, 5000, 2000)\n",
    "\n",
    "print(prob_over_1000)"
   ]
  },
  {
   "cell_type": "code",
   "execution_count": 12,
   "id": "f3cc6ca2",
   "metadata": {},
   "outputs": [
    {
     "name": "stdout",
     "output_type": "stream",
     "text": [
      "0.6826894921370859\n"
     ]
    }
   ],
   "source": [
    "# What's the probability of Amir closing a deal worth between $3000 and $7000?\n",
    "\n",
    "# Probability of deal between 3000 and 7000\n",
    "prob_3000_to_7000 = norm.cdf(7000, 5000, 2000) - norm.cdf(3000, 5000, 2000)\n",
    "\n",
    "print(prob_3000_to_7000)"
   ]
  },
  {
   "cell_type": "code",
   "execution_count": 13,
   "id": "be6a67e5",
   "metadata": {},
   "outputs": [
    {
     "name": "stdout",
     "output_type": "stream",
     "text": [
      "3651.0204996078364\n"
     ]
    }
   ],
   "source": [
    "# What amount will 25% of Amir's sales be less than?\n",
    "\n",
    "# Calculate amount that 25% of deals will be less than\n",
    "pct_25 = norm.ppf(0.25, 5000, 2000)\n",
    "\n",
    "print(pct_25)"
   ]
  },
  {
   "cell_type": "markdown",
   "id": "ca1abfdb",
   "metadata": {},
   "source": [
    "#### Simulating sales under new market conditions\n",
    "\n",
    "The company's financial analyst is predicting that next quarter, the worth of each sale will increase by 20% and the volatility, or standard deviation, of each sale's worth will increase by 30%. To see what Amir's sales might look like next quarter under these new market conditions, you'll simulate new sales amounts using the normal distribution and store these in the new_sales DataFrame, which has already been created for you."
   ]
  },
  {
   "cell_type": "code",
   "execution_count": 14,
   "id": "18551073",
   "metadata": {},
   "outputs": [
    {
     "data": {
      "image/png": "[encoded data removed]",
      "text/plain": [
       "<Figure size 640x480 with 1 Axes>"
      ]
     },
     "metadata": {},
     "output_type": "display_data"
    }
   ],
   "source": [
    "# Currently, Amir's average sale amount is $5000. Calculate what his new average amount will be if it increases by 20% and store this in new_mean\n",
    "# Calculate new average amount\n",
    "new_mean = 5000 + (5000*0.2)\n",
    "\n",
    "# Amir's current standard deviation is $2000. Calculate what his new standard deviation will be if it increases by 30% and store this in new_sd.\n",
    "# Calculate new standard deviation\n",
    "new_sd = 2000 + (2000*0.3)\n",
    "\n",
    "# Create a variable called new_sales, which contains 36 simulated amounts from a normal distribution with a mean of new_mean and a standard deviation of new_sd.\n",
    "# Simulate 36 new sales\n",
    "new_sales = norm.rvs(new_mean, new_sd, size=36)\n",
    "\n",
    "# Plot the distribution of the new_sales amounts using a histogram and show the plot.\n",
    "# Create histogram and show\n",
    "plt.hist(new_sales)\n",
    "plt.show()"
   ]
  },
  {
   "cell_type": "markdown",
   "id": "1f915ab0",
   "metadata": {},
   "source": [
    "#### Which market is better?\n",
    "\n",
    "The key metric that the company uses to evaluate salespeople is the percent of sales they make over $1000 since the time put into each sale is usually worth a bit more than that, so the higher this metric, the better the salesperson is performing.\n",
    "\n",
    "Recall that Amir's current sales amounts have a mean of $5000 and a standard deviation of $2000, and Amir's predicted amounts in next quarter's market have a mean of $6000 and a standard deviation of $2600."
   ]
  },
  {
   "cell_type": "code",
   "execution_count": 16,
   "id": "b15a0973",
   "metadata": {},
   "outputs": [
    {
     "name": "stdout",
     "output_type": "stream",
     "text": [
      "Current:  0.9772498680518208\n",
      "Predicted:  0.9727648049862613\n"
     ]
    }
   ],
   "source": [
    "# Current\n",
    "print('Current: ', 1 - norm.cdf(1000, 5000, 2000))\n",
    "\n",
    "# Predicted\n",
    "print('Predicted: ', 1 - norm.cdf(1000, 6000, 2600))"
   ]
  },
  {
   "cell_type": "markdown",
   "id": "9754dbed",
   "metadata": {},
   "source": [
    "## The Central Limit Theorem"
   ]
  },
  {
   "cell_type": "code",
   "execution_count": 2,
   "id": "a8407436",
   "metadata": {},
   "outputs": [
    {
     "name": "stdout",
     "output_type": "stream",
     "text": [
      "2    3\n",
      "2    3\n",
      "0    1\n",
      "0    1\n",
      "4    5\n",
      "dtype: int64\n"
     ]
    }
   ],
   "source": [
    "import pandas as pd\n",
    "\n",
    "die = pd.Series([1, 2, 3, 4, 5, 6])\n",
    "\n",
    "# Roll 5 times:\n",
    "samp_5 = die.sample(5, replace=True)\n",
    "print(samp_5)"
   ]
  },
  {
   "cell_type": "code",
   "execution_count": 3,
   "id": "0452abf7",
   "metadata": {},
   "outputs": [
    {
     "data": {
      "text/plain": [
       "2.6"
      ]
     },
     "execution_count": 3,
     "metadata": {},
     "output_type": "execute_result"
    }
   ],
   "source": [
    "import numpy as np\n",
    "np.mean(samp_5)"
   ]
  },
  {
   "cell_type": "code",
   "execution_count": 13,
   "id": "2041a5de",
   "metadata": {},
   "outputs": [
    {
     "name": "stdout",
     "output_type": "stream",
     "text": [
      "[4.2, 3.4, 5.0, 4.2, 4.4, 3.0, 3.0, 4.8, 4.0, 3.0]\n"
     ]
    }
   ],
   "source": [
    "# rolling the dice 5 times 10 times\n",
    "\n",
    "sample_means = []\n",
    "for i in range(10):\n",
    "    samp_5 = die.sample(5, replace=True)\n",
    "    sample_means.append(np.mean(samp_5))\n",
    "print(sample_means)"
   ]
  },
  {
   "cell_type": "code",
   "execution_count": 15,
   "id": "620be49b",
   "metadata": {},
   "outputs": [
    {
     "data": {
      "image/png": "[encoded data removed]",
      "text/plain": [
       "<Figure size 640x480 with 1 Axes>"
      ]
     },
     "metadata": {},
     "output_type": "display_data"
    }
   ],
   "source": [
    "# 100 sample means\n",
    "\n",
    "sample_means = []\n",
    "for i in range(100):\n",
    "    sample_means.append(np.mean(die.sample(5, replace=True)))\n",
    "\n",
    "import matplotlib.pyplot as plt\n",
    "histplot = plt.hist(sample_means, bins=10)\n",
    "plt.show()"
   ]
  },
  {
   "cell_type": "code",
   "execution_count": 10,
   "id": "0a995c31",
   "metadata": {},
   "outputs": [],
   "source": [
    "# 1000 sample means\n",
    "\n",
    "sample_means = []\n",
    "for i in range(1000):\n",
    "    sample_means.append(np.mean(die.sample(5, replace=True)))"
   ]
  },
  {
   "cell_type": "code",
   "execution_count": 11,
   "id": "35356cbd",
   "metadata": {},
   "outputs": [
    {
     "data": {
      "text/plain": [
       "(array([ 14.,  42.,  89., 142., 196., 281., 128.,  68.,  31.,   9.]),\n",
       " array([1.4 , 1.84, 2.28, 2.72, 3.16, 3.6 , 4.04, 4.48, 4.92, 5.36, 5.8 ]),\n",
       " <BarContainer object of 10 artists>)"
      ]
     },
     "execution_count": 11,
     "metadata": {},
     "output_type": "execute_result"
    },
    {
     "data": {
      "image/png": "[encoded data removed]",
      "text/plain": [
       "<Figure size 640x480 with 1 Axes>"
      ]
     },
     "metadata": {},
     "output_type": "display_data"
    }
   ],
   "source": [
    "plt.hist(sample_means)"
   ]
  },
  {
   "cell_type": "markdown",
   "id": "f9ca9a3f",
   "metadata": {},
   "source": [
    "#### The CLT in action\n",
    "The central limit theorem states that a sampling distribution of a sample statistic approaches the normal distribution as you take more samples, no matter the original distribution being sampled from.\n",
    "\n",
    "In this exercise, you'll focus on the sample mean and see the central limit theorem in action while examining the num_users column of amir_deals more closely, which contains the number of people who intend to use the product Amir is selling."
   ]
  },
  {
   "cell_type": "code",
   "execution_count": 17,
   "id": "61fad4a0",
   "metadata": {},
   "outputs": [
    {
     "data": {
      "image/png": "[encoded data removed]",
      "text/plain": [
       "<Figure size 640x480 with 1 Axes>"
      ]
     },
     "metadata": {},
     "output_type": "display_data"
    }
   ],
   "source": [
    "# Create a histogram of the num_users column of amir_deals and show the plot.\n",
    "\n",
    "amir_deals = pd.read_csv('amir_deals.csv')\n",
    "\n",
    "plt.hist(amir_deals['num_users'])\n",
    "plt.show()"
   ]
  },
  {
   "cell_type": "markdown",
   "id": "39d3ddee",
   "metadata": {},
   "source": []
  }
 ],
 "metadata": {
  "kernelspec": {
   "display_name": "base",
   "language": "python",
   "name": "python3"
  },
  "language_info": {
   "codemirror_mode": {
    "name": "ipython",
    "version": 3
   },
   "file_extension": ".py",
   "mimetype": "text/x-python",
   "name": "python",
   "nbconvert_exporter": "python",
   "pygments_lexer": "ipython3",
   "version": "3.11.8"
  }
 },
 "nbformat": 4,
 "nbformat_minor": 5
}
